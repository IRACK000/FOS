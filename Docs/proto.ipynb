{
 "cells": [
  {
   "cell_type": "markdown",
   "source": [
    "\"\"\"\"\"\"\"\"\"\"\"\"\"\"\"\"\"\"\"\"\"\"\"\"\"\"\"\"\"\"\"\"\"\"\"\"\"\"\"\"\"\"\"\"\"\"\"\"\"\"\"\"\"\"\"\"\"\"\"\"\"\"\"\"\"\"\"\"\"\"\"\"\"\"\"\"\"\n",
    "### Alias : proto.ipynb & Last Modded : 2023.07.09. ###\n",
    "Coded with Python 3.10 Grammar\n",
    "Description : FOS Controller Prototype\n",
    "\"\"\"\"\"\"\"\"\"\"\"\"\"\"\"\"\"\"\"\"\"\"\"\"\"\"\"\"\"\"\"\"\"\"\"\"\"\"\"\"\"\"\"\"\"\"\"\"\"\"\"\"\"\"\"\"\"\"\"\"\"\"\"\"\"\"\"\"\"\"\"\"\"\"\"\"\""
   ],
   "metadata": {
    "collapsed": false
   }
  },
  {
   "cell_type": "markdown",
   "source": [
    "#### Basic Settings"
   ],
   "metadata": {
    "collapsed": false
   }
  },
  {
   "cell_type": "code",
   "execution_count": 1,
   "outputs": [],
   "source": [
    "import asyncio\n",
    "import socket\n",
    "import json\n",
    "\n",
    "import pandas as pd\n",
    "\n",
    "HOST = \"127.0.0.1\"\n",
    "PORT = 8080\n",
    "SIZE = 4096"
   ],
   "metadata": {
    "collapsed": false,
    "ExecuteTime": {
     "end_time": "2023-07-10T16:29:19.238893300Z",
     "start_time": "2023-07-10T16:29:17.776394700Z"
    }
   }
  },
  {
   "cell_type": "code",
   "execution_count": 2,
   "outputs": [],
   "source": [
    "def recv():\n",
    "    global client_socket\n",
    "    fragments = []\n",
    "    while True:\n",
    "        chunk = client_socket.recv(SIZE)\n",
    "        if not chunk:\n",
    "            raise Exception(\"Socket connection closed unexpectedly.\")\n",
    "        fragments.append(chunk)\n",
    "        if len(chunk) < SIZE:\n",
    "            break\n",
    "    return b''.join(fragments).decode()"
   ],
   "metadata": {
    "collapsed": false,
    "ExecuteTime": {
     "end_time": "2023-07-10T16:29:19.254411600Z",
     "start_time": "2023-07-10T16:29:19.245412Z"
    }
   }
  },
  {
   "cell_type": "markdown",
   "source": [
    "#### Server Open"
   ],
   "metadata": {
    "collapsed": false
   }
  },
  {
   "cell_type": "code",
   "execution_count": 3,
   "outputs": [],
   "source": [
    "server_socket = socket.socket(socket.AF_INET, socket.SOCK_STREAM)\n",
    "server_socket.bind((HOST, PORT))\n",
    "server_socket.listen()"
   ],
   "metadata": {
    "collapsed": false,
    "ExecuteTime": {
     "end_time": "2023-07-10T16:29:19.646307300Z",
     "start_time": "2023-07-10T16:29:19.589164400Z"
    }
   }
  },
  {
   "cell_type": "markdown",
   "source": [
    "#### Client Accept"
   ],
   "metadata": {
    "collapsed": false
   }
  },
  {
   "cell_type": "code",
   "execution_count": 5,
   "outputs": [],
   "source": [
    "client_socket, client_addr = server_socket.accept()"
   ],
   "metadata": {
    "collapsed": false,
    "ExecuteTime": {
     "end_time": "2023-07-10T16:29:59.365781400Z",
     "start_time": "2023-07-10T16:29:39.117518500Z"
    }
   }
  },
  {
   "cell_type": "code",
   "execution_count": 6,
   "outputs": [
    {
     "data": {
      "text/plain": "'!CONNECTED!'"
     },
     "execution_count": 6,
     "metadata": {},
     "output_type": "execute_result"
    }
   ],
   "source": [
    "msg = recv()\n",
    "msg"
   ],
   "metadata": {
    "collapsed": false,
    "ExecuteTime": {
     "end_time": "2023-07-10T16:30:02.066361900Z",
     "start_time": "2023-07-10T16:30:01.979208200Z"
    }
   }
  },
  {
   "cell_type": "markdown",
   "source": [
    "#### Game Start"
   ],
   "metadata": {
    "collapsed": false
   }
  },
  {
   "cell_type": "code",
   "execution_count": 7,
   "outputs": [],
   "source": [
    "client_socket.sendall(\"/start\".encode())"
   ],
   "metadata": {
    "collapsed": false,
    "ExecuteTime": {
     "end_time": "2023-07-10T16:30:03.566431Z",
     "start_time": "2023-07-10T16:30:03.515144900Z"
    }
   }
  },
  {
   "cell_type": "code",
   "execution_count": 8,
   "outputs": [
    {
     "data": {
      "text/plain": "                         0\ncode                   200\nmessage  Round 1 is ready.\ndata          {'round': 1}",
      "text/html": "<div>\n<style scoped>\n    .dataframe tbody tr th:only-of-type {\n        vertical-align: middle;\n    }\n\n    .dataframe tbody tr th {\n        vertical-align: top;\n    }\n\n    .dataframe thead th {\n        text-align: right;\n    }\n</style>\n<table border=\"1\" class=\"dataframe\">\n  <thead>\n    <tr style=\"text-align: right;\">\n      <th></th>\n      <th>0</th>\n    </tr>\n  </thead>\n  <tbody>\n    <tr>\n      <th>code</th>\n      <td>200</td>\n    </tr>\n    <tr>\n      <th>message</th>\n      <td>Round 1 is ready.</td>\n    </tr>\n    <tr>\n      <th>data</th>\n      <td>{'round': 1}</td>\n    </tr>\n  </tbody>\n</table>\n</div>"
     },
     "execution_count": 8,
     "metadata": {},
     "output_type": "execute_result"
    }
   ],
   "source": [
    "msg = pd.DataFrame.from_dict(data=json.loads(recv()), orient='index')\n",
    "msg"
   ],
   "metadata": {
    "collapsed": false,
    "ExecuteTime": {
     "end_time": "2023-07-10T16:30:04.882676100Z",
     "start_time": "2023-07-10T16:30:04.825907500Z"
    }
   }
  },
  {
   "cell_type": "code",
   "execution_count": 9,
   "outputs": [],
   "source": [
    "client_socket.sendall(\"/data/aircraft_specsheet\".encode())"
   ],
   "metadata": {
    "collapsed": false,
    "ExecuteTime": {
     "end_time": "2023-07-10T16:30:07.025179900Z",
     "start_time": "2023-07-10T16:30:06.967788100Z"
    }
   }
  },
  {
   "cell_type": "code",
   "execution_count": 10,
   "outputs": [
    {
     "data": {
      "text/plain": "                                                         0\ncode                                                   200\nmessage                                            Success\ndata     {\"D1\": {\"Aircraft Type\": \"Drone\", \"Velocity\": ...",
      "text/html": "<div>\n<style scoped>\n    .dataframe tbody tr th:only-of-type {\n        vertical-align: middle;\n    }\n\n    .dataframe tbody tr th {\n        vertical-align: top;\n    }\n\n    .dataframe thead th {\n        text-align: right;\n    }\n</style>\n<table border=\"1\" class=\"dataframe\">\n  <thead>\n    <tr style=\"text-align: right;\">\n      <th></th>\n      <th>0</th>\n    </tr>\n  </thead>\n  <tbody>\n    <tr>\n      <th>code</th>\n      <td>200</td>\n    </tr>\n    <tr>\n      <th>message</th>\n      <td>Success</td>\n    </tr>\n    <tr>\n      <th>data</th>\n      <td>{\"D1\": {\"Aircraft Type\": \"Drone\", \"Velocity\": ...</td>\n    </tr>\n  </tbody>\n</table>\n</div>"
     },
     "execution_count": 10,
     "metadata": {},
     "output_type": "execute_result"
    }
   ],
   "source": [
    "spec = pd.DataFrame.from_dict(data=json.loads(recv()), orient='index')\n",
    "spec"
   ],
   "metadata": {
    "collapsed": false,
    "ExecuteTime": {
     "end_time": "2023-07-10T16:30:08.329066500Z",
     "start_time": "2023-07-10T16:30:08.261120700Z"
    }
   }
  },
  {
   "cell_type": "code",
   "execution_count": 12,
   "outputs": [
    {
     "data": {
      "text/plain": "   Aircraft Type  Velocity  ETRDY  Cost  Cover Area  Water Tank  Possibility\nD1         Drone        80     10   500           0         7.2           56\nD2         Drone       100     12   600           0         6.8           57\nD3         Drone        50      8   400           0         7.5           55\nD4         Drone        90     10   550           0         6.7           57\nD5         Drone        70      9   450           0         7.4           56\nH1    Helicopter       200     15  1000           1         6.5           61\nH2    Helicopter       190     14   950           1         6.8           62\nH3    Helicopter       210     16  1100           1         6.1           63\nH4    Helicopter       195     14   900           1         6.7           60\nH5    Helicopter       205     15  1050           1         6.3           62\nA1      Airplane       350     40  4000           2         4.0           90\nA2      Airplane       280     37  3500           2         3.6           85\nA3      Airplane       390     41  5200           2         3.4           99\nA4      Airplane       270     55  3200           2         3.6           83\nA5      Airplane       300     55  4500           2         3.2           85",
      "text/html": "<div>\n<style scoped>\n    .dataframe tbody tr th:only-of-type {\n        vertical-align: middle;\n    }\n\n    .dataframe tbody tr th {\n        vertical-align: top;\n    }\n\n    .dataframe thead th {\n        text-align: right;\n    }\n</style>\n<table border=\"1\" class=\"dataframe\">\n  <thead>\n    <tr style=\"text-align: right;\">\n      <th></th>\n      <th>Aircraft Type</th>\n      <th>Velocity</th>\n      <th>ETRDY</th>\n      <th>Cost</th>\n      <th>Cover Area</th>\n      <th>Water Tank</th>\n      <th>Possibility</th>\n    </tr>\n  </thead>\n  <tbody>\n    <tr>\n      <th>D1</th>\n      <td>Drone</td>\n      <td>80</td>\n      <td>10</td>\n      <td>500</td>\n      <td>0</td>\n      <td>7.2</td>\n      <td>56</td>\n    </tr>\n    <tr>\n      <th>D2</th>\n      <td>Drone</td>\n      <td>100</td>\n      <td>12</td>\n      <td>600</td>\n      <td>0</td>\n      <td>6.8</td>\n      <td>57</td>\n    </tr>\n    <tr>\n      <th>D3</th>\n      <td>Drone</td>\n      <td>50</td>\n      <td>8</td>\n      <td>400</td>\n      <td>0</td>\n      <td>7.5</td>\n      <td>55</td>\n    </tr>\n    <tr>\n      <th>D4</th>\n      <td>Drone</td>\n      <td>90</td>\n      <td>10</td>\n      <td>550</td>\n      <td>0</td>\n      <td>6.7</td>\n      <td>57</td>\n    </tr>\n    <tr>\n      <th>D5</th>\n      <td>Drone</td>\n      <td>70</td>\n      <td>9</td>\n      <td>450</td>\n      <td>0</td>\n      <td>7.4</td>\n      <td>56</td>\n    </tr>\n    <tr>\n      <th>H1</th>\n      <td>Helicopter</td>\n      <td>200</td>\n      <td>15</td>\n      <td>1000</td>\n      <td>1</td>\n      <td>6.5</td>\n      <td>61</td>\n    </tr>\n    <tr>\n      <th>H2</th>\n      <td>Helicopter</td>\n      <td>190</td>\n      <td>14</td>\n      <td>950</td>\n      <td>1</td>\n      <td>6.8</td>\n      <td>62</td>\n    </tr>\n    <tr>\n      <th>H3</th>\n      <td>Helicopter</td>\n      <td>210</td>\n      <td>16</td>\n      <td>1100</td>\n      <td>1</td>\n      <td>6.1</td>\n      <td>63</td>\n    </tr>\n    <tr>\n      <th>H4</th>\n      <td>Helicopter</td>\n      <td>195</td>\n      <td>14</td>\n      <td>900</td>\n      <td>1</td>\n      <td>6.7</td>\n      <td>60</td>\n    </tr>\n    <tr>\n      <th>H5</th>\n      <td>Helicopter</td>\n      <td>205</td>\n      <td>15</td>\n      <td>1050</td>\n      <td>1</td>\n      <td>6.3</td>\n      <td>62</td>\n    </tr>\n    <tr>\n      <th>A1</th>\n      <td>Airplane</td>\n      <td>350</td>\n      <td>40</td>\n      <td>4000</td>\n      <td>2</td>\n      <td>4.0</td>\n      <td>90</td>\n    </tr>\n    <tr>\n      <th>A2</th>\n      <td>Airplane</td>\n      <td>280</td>\n      <td>37</td>\n      <td>3500</td>\n      <td>2</td>\n      <td>3.6</td>\n      <td>85</td>\n    </tr>\n    <tr>\n      <th>A3</th>\n      <td>Airplane</td>\n      <td>390</td>\n      <td>41</td>\n      <td>5200</td>\n      <td>2</td>\n      <td>3.4</td>\n      <td>99</td>\n    </tr>\n    <tr>\n      <th>A4</th>\n      <td>Airplane</td>\n      <td>270</td>\n      <td>55</td>\n      <td>3200</td>\n      <td>2</td>\n      <td>3.6</td>\n      <td>83</td>\n    </tr>\n    <tr>\n      <th>A5</th>\n      <td>Airplane</td>\n      <td>300</td>\n      <td>55</td>\n      <td>4500</td>\n      <td>2</td>\n      <td>3.2</td>\n      <td>85</td>\n    </tr>\n  </tbody>\n</table>\n</div>"
     },
     "execution_count": 12,
     "metadata": {},
     "output_type": "execute_result"
    }
   ],
   "source": [
    "pd.DataFrame.from_dict(data=json.loads(spec[0]['data']), orient='index')"
   ],
   "metadata": {
    "collapsed": false,
    "ExecuteTime": {
     "end_time": "2023-07-10T16:30:17.877412700Z",
     "start_time": "2023-07-10T16:30:17.822913500Z"
    }
   }
  },
  {
   "cell_type": "code",
   "execution_count": 13,
   "outputs": [],
   "source": [
    "client_socket.sendall(\"/data/target_list\".encode())"
   ],
   "metadata": {
    "collapsed": false,
    "ExecuteTime": {
     "end_time": "2023-07-10T16:30:18.916653500Z",
     "start_time": "2023-07-10T16:30:18.870923Z"
    }
   }
  },
  {
   "cell_type": "code",
   "execution_count": 14,
   "outputs": [
    {
     "data": {
      "text/plain": "                                                         0\ncode                                                   200\nmessage                                            Success\ndata     {\"Targets\": {\"T1\": {\"latitude\": 280, \"longitud...",
      "text/html": "<div>\n<style scoped>\n    .dataframe tbody tr th:only-of-type {\n        vertical-align: middle;\n    }\n\n    .dataframe tbody tr th {\n        vertical-align: top;\n    }\n\n    .dataframe thead th {\n        text-align: right;\n    }\n</style>\n<table border=\"1\" class=\"dataframe\">\n  <thead>\n    <tr style=\"text-align: right;\">\n      <th></th>\n      <th>0</th>\n    </tr>\n  </thead>\n  <tbody>\n    <tr>\n      <th>code</th>\n      <td>200</td>\n    </tr>\n    <tr>\n      <th>message</th>\n      <td>Success</td>\n    </tr>\n    <tr>\n      <th>data</th>\n      <td>{\"Targets\": {\"T1\": {\"latitude\": 280, \"longitud...</td>\n    </tr>\n  </tbody>\n</table>\n</div>"
     },
     "execution_count": 14,
     "metadata": {},
     "output_type": "execute_result"
    }
   ],
   "source": [
    "targets = pd.DataFrame.from_dict(data=json.loads(recv()), orient='index')\n",
    "targets"
   ],
   "metadata": {
    "collapsed": false,
    "ExecuteTime": {
     "end_time": "2023-07-10T16:30:19.909821Z",
     "start_time": "2023-07-10T16:30:19.838929800Z"
    }
   }
  },
  {
   "cell_type": "code",
   "execution_count": 15,
   "outputs": [
    {
     "data": {
      "text/plain": "                                              Targets  \\\nT1  {'latitude': 280, 'longitude': 20, 'targeted':...   \nT2  {'latitude': 280, 'longitude': 60, 'targeted':...   \nT3  {'latitude': 280, 'longitude': 100, 'targeted'...   \nT4  {'latitude': 240, 'longitude': 20, 'targeted':...   \nT5  {'latitude': 240, 'longitude': 60, 'targeted':...   \nT6  {'latitude': 240, 'longitude': 100, 'targeted'...   \nT7  {'latitude': 200, 'longitude': 20, 'targeted':...   \nT8  {'latitude': 200, 'longitude': 60, 'targeted':...   \nT9  {'latitude': 200, 'longitude': 100, 'targeted'...   \nL1                                                NaN   \nA                                                 NaN   \nB                                                 NaN   \nC                                                 NaN   \n\n                                  Lakes                                Bases  \nT1                                  NaN                                  NaN  \nT2                                  NaN                                  NaN  \nT3                                  NaN                                  NaN  \nT4                                  NaN                                  NaN  \nT5                                  NaN                                  NaN  \nT6                                  NaN                                  NaN  \nT7                                  NaN                                  NaN  \nT8                                  NaN                                  NaN  \nT9                                  NaN                                  NaN  \nL1  {'latitude': 270, 'longitude': 270}                                  NaN  \nA                                   NaN    {'latitude': 60, 'longitude': 65}  \nB                                   NaN   {'latitude': 30, 'longitude': 190}  \nC                                   NaN  {'latitude': 140, 'longitude': 270}  ",
      "text/html": "<div>\n<style scoped>\n    .dataframe tbody tr th:only-of-type {\n        vertical-align: middle;\n    }\n\n    .dataframe tbody tr th {\n        vertical-align: top;\n    }\n\n    .dataframe thead th {\n        text-align: right;\n    }\n</style>\n<table border=\"1\" class=\"dataframe\">\n  <thead>\n    <tr style=\"text-align: right;\">\n      <th></th>\n      <th>Targets</th>\n      <th>Lakes</th>\n      <th>Bases</th>\n    </tr>\n  </thead>\n  <tbody>\n    <tr>\n      <th>T1</th>\n      <td>{'latitude': 280, 'longitude': 20, 'targeted':...</td>\n      <td>NaN</td>\n      <td>NaN</td>\n    </tr>\n    <tr>\n      <th>T2</th>\n      <td>{'latitude': 280, 'longitude': 60, 'targeted':...</td>\n      <td>NaN</td>\n      <td>NaN</td>\n    </tr>\n    <tr>\n      <th>T3</th>\n      <td>{'latitude': 280, 'longitude': 100, 'targeted'...</td>\n      <td>NaN</td>\n      <td>NaN</td>\n    </tr>\n    <tr>\n      <th>T4</th>\n      <td>{'latitude': 240, 'longitude': 20, 'targeted':...</td>\n      <td>NaN</td>\n      <td>NaN</td>\n    </tr>\n    <tr>\n      <th>T5</th>\n      <td>{'latitude': 240, 'longitude': 60, 'targeted':...</td>\n      <td>NaN</td>\n      <td>NaN</td>\n    </tr>\n    <tr>\n      <th>T6</th>\n      <td>{'latitude': 240, 'longitude': 100, 'targeted'...</td>\n      <td>NaN</td>\n      <td>NaN</td>\n    </tr>\n    <tr>\n      <th>T7</th>\n      <td>{'latitude': 200, 'longitude': 20, 'targeted':...</td>\n      <td>NaN</td>\n      <td>NaN</td>\n    </tr>\n    <tr>\n      <th>T8</th>\n      <td>{'latitude': 200, 'longitude': 60, 'targeted':...</td>\n      <td>NaN</td>\n      <td>NaN</td>\n    </tr>\n    <tr>\n      <th>T9</th>\n      <td>{'latitude': 200, 'longitude': 100, 'targeted'...</td>\n      <td>NaN</td>\n      <td>NaN</td>\n    </tr>\n    <tr>\n      <th>L1</th>\n      <td>NaN</td>\n      <td>{'latitude': 270, 'longitude': 270}</td>\n      <td>NaN</td>\n    </tr>\n    <tr>\n      <th>A</th>\n      <td>NaN</td>\n      <td>NaN</td>\n      <td>{'latitude': 60, 'longitude': 65}</td>\n    </tr>\n    <tr>\n      <th>B</th>\n      <td>NaN</td>\n      <td>NaN</td>\n      <td>{'latitude': 30, 'longitude': 190}</td>\n    </tr>\n    <tr>\n      <th>C</th>\n      <td>NaN</td>\n      <td>NaN</td>\n      <td>{'latitude': 140, 'longitude': 270}</td>\n    </tr>\n  </tbody>\n</table>\n</div>"
     },
     "execution_count": 15,
     "metadata": {},
     "output_type": "execute_result"
    }
   ],
   "source": [
    "pd.DataFrame.from_dict(data=json.loads(targets[0]['data']), orient='columns')"
   ],
   "metadata": {
    "collapsed": false,
    "ExecuteTime": {
     "end_time": "2023-07-10T16:30:21.175140700Z",
     "start_time": "2023-07-10T16:30:21.058177300Z"
    }
   }
  },
  {
   "cell_type": "code",
   "execution_count": 16,
   "outputs": [],
   "source": [
    "client_socket.sendall(\"/data/unit_table\".encode())"
   ],
   "metadata": {
    "collapsed": false,
    "ExecuteTime": {
     "end_time": "2023-07-10T16:30:25.850765200Z",
     "start_time": "2023-07-10T16:30:25.755179500Z"
    }
   }
  },
  {
   "cell_type": "code",
   "execution_count": 17,
   "outputs": [
    {
     "data": {
      "text/plain": "                                                         0\ncode                                                   200\nmessage                                            Success\ndata     {\"D1-A\": {\"Ordered\": false, \"Available\": true,...",
      "text/html": "<div>\n<style scoped>\n    .dataframe tbody tr th:only-of-type {\n        vertical-align: middle;\n    }\n\n    .dataframe tbody tr th {\n        vertical-align: top;\n    }\n\n    .dataframe thead th {\n        text-align: right;\n    }\n</style>\n<table border=\"1\" class=\"dataframe\">\n  <thead>\n    <tr style=\"text-align: right;\">\n      <th></th>\n      <th>0</th>\n    </tr>\n  </thead>\n  <tbody>\n    <tr>\n      <th>code</th>\n      <td>200</td>\n    </tr>\n    <tr>\n      <th>message</th>\n      <td>Success</td>\n    </tr>\n    <tr>\n      <th>data</th>\n      <td>{\"D1-A\": {\"Ordered\": false, \"Available\": true,...</td>\n    </tr>\n  </tbody>\n</table>\n</div>"
     },
     "execution_count": 17,
     "metadata": {},
     "output_type": "execute_result"
    }
   ],
   "source": [
    "units = pd.DataFrame.from_dict(data=json.loads(recv()), orient='index')\n",
    "units"
   ],
   "metadata": {
    "collapsed": false,
    "ExecuteTime": {
     "end_time": "2023-07-10T16:30:28.257993600Z",
     "start_time": "2023-07-10T16:30:28.191544900Z"
    }
   }
  },
  {
   "cell_type": "code",
   "execution_count": 18,
   "outputs": [
    {
     "data": {
      "text/plain": "      Ordered  Available ETR ETD ETA Base  Current Water\nD1-A    False       True                A      50.888889\nD2-A    False       True                C      50.705882\nD3-A    False       True                C      99.333333\nD4-A    False       True                C      77.925373\nD5-A    False       True                A      34.513514\nH1-A    False       True                C      44.384615\nH2-A    False       True                C      33.705882\nH3-A    False       True                B      33.393443\nH4-A    False       True                C      18.925373\nH5-A    False       True                C      16.873016\nA1-A    False       True                B     100.000000\nA2-A    False       True                A     100.000000\nA3-A    False       True                C      92.411765\nA4-A    False       True                A      46.777778\nA5-A    False       True                B      72.250000\nD1-B    False       True                C      27.888889\nD2-B    False       True                A      58.705882\nD3-B    False       True                C      97.333333\nD4-B    False       True                A      80.925373\nD5-B    False       True                C     100.000000\nH1-B    False       True                B      93.384615\nH2-B    False       True                C     100.000000\nH3-B    False       True                A      85.393443\nH4-B    False       True                C      92.925373\nH5-B    False       True                C      65.873016\nA1-B    False       True                B      65.000000\nA2-B    False       True                C      98.777778\nA3-B    False       True                A      56.411765\nA4-B    False       True                A      63.777778\nA5-B    False       True                C      55.250000",
      "text/html": "<div>\n<style scoped>\n    .dataframe tbody tr th:only-of-type {\n        vertical-align: middle;\n    }\n\n    .dataframe tbody tr th {\n        vertical-align: top;\n    }\n\n    .dataframe thead th {\n        text-align: right;\n    }\n</style>\n<table border=\"1\" class=\"dataframe\">\n  <thead>\n    <tr style=\"text-align: right;\">\n      <th></th>\n      <th>Ordered</th>\n      <th>Available</th>\n      <th>ETR</th>\n      <th>ETD</th>\n      <th>ETA</th>\n      <th>Base</th>\n      <th>Current Water</th>\n    </tr>\n  </thead>\n  <tbody>\n    <tr>\n      <th>D1-A</th>\n      <td>False</td>\n      <td>True</td>\n      <td></td>\n      <td></td>\n      <td></td>\n      <td>A</td>\n      <td>50.888889</td>\n    </tr>\n    <tr>\n      <th>D2-A</th>\n      <td>False</td>\n      <td>True</td>\n      <td></td>\n      <td></td>\n      <td></td>\n      <td>C</td>\n      <td>50.705882</td>\n    </tr>\n    <tr>\n      <th>D3-A</th>\n      <td>False</td>\n      <td>True</td>\n      <td></td>\n      <td></td>\n      <td></td>\n      <td>C</td>\n      <td>99.333333</td>\n    </tr>\n    <tr>\n      <th>D4-A</th>\n      <td>False</td>\n      <td>True</td>\n      <td></td>\n      <td></td>\n      <td></td>\n      <td>C</td>\n      <td>77.925373</td>\n    </tr>\n    <tr>\n      <th>D5-A</th>\n      <td>False</td>\n      <td>True</td>\n      <td></td>\n      <td></td>\n      <td></td>\n      <td>A</td>\n      <td>34.513514</td>\n    </tr>\n    <tr>\n      <th>H1-A</th>\n      <td>False</td>\n      <td>True</td>\n      <td></td>\n      <td></td>\n      <td></td>\n      <td>C</td>\n      <td>44.384615</td>\n    </tr>\n    <tr>\n      <th>H2-A</th>\n      <td>False</td>\n      <td>True</td>\n      <td></td>\n      <td></td>\n      <td></td>\n      <td>C</td>\n      <td>33.705882</td>\n    </tr>\n    <tr>\n      <th>H3-A</th>\n      <td>False</td>\n      <td>True</td>\n      <td></td>\n      <td></td>\n      <td></td>\n      <td>B</td>\n      <td>33.393443</td>\n    </tr>\n    <tr>\n      <th>H4-A</th>\n      <td>False</td>\n      <td>True</td>\n      <td></td>\n      <td></td>\n      <td></td>\n      <td>C</td>\n      <td>18.925373</td>\n    </tr>\n    <tr>\n      <th>H5-A</th>\n      <td>False</td>\n      <td>True</td>\n      <td></td>\n      <td></td>\n      <td></td>\n      <td>C</td>\n      <td>16.873016</td>\n    </tr>\n    <tr>\n      <th>A1-A</th>\n      <td>False</td>\n      <td>True</td>\n      <td></td>\n      <td></td>\n      <td></td>\n      <td>B</td>\n      <td>100.000000</td>\n    </tr>\n    <tr>\n      <th>A2-A</th>\n      <td>False</td>\n      <td>True</td>\n      <td></td>\n      <td></td>\n      <td></td>\n      <td>A</td>\n      <td>100.000000</td>\n    </tr>\n    <tr>\n      <th>A3-A</th>\n      <td>False</td>\n      <td>True</td>\n      <td></td>\n      <td></td>\n      <td></td>\n      <td>C</td>\n      <td>92.411765</td>\n    </tr>\n    <tr>\n      <th>A4-A</th>\n      <td>False</td>\n      <td>True</td>\n      <td></td>\n      <td></td>\n      <td></td>\n      <td>A</td>\n      <td>46.777778</td>\n    </tr>\n    <tr>\n      <th>A5-A</th>\n      <td>False</td>\n      <td>True</td>\n      <td></td>\n      <td></td>\n      <td></td>\n      <td>B</td>\n      <td>72.250000</td>\n    </tr>\n    <tr>\n      <th>D1-B</th>\n      <td>False</td>\n      <td>True</td>\n      <td></td>\n      <td></td>\n      <td></td>\n      <td>C</td>\n      <td>27.888889</td>\n    </tr>\n    <tr>\n      <th>D2-B</th>\n      <td>False</td>\n      <td>True</td>\n      <td></td>\n      <td></td>\n      <td></td>\n      <td>A</td>\n      <td>58.705882</td>\n    </tr>\n    <tr>\n      <th>D3-B</th>\n      <td>False</td>\n      <td>True</td>\n      <td></td>\n      <td></td>\n      <td></td>\n      <td>C</td>\n      <td>97.333333</td>\n    </tr>\n    <tr>\n      <th>D4-B</th>\n      <td>False</td>\n      <td>True</td>\n      <td></td>\n      <td></td>\n      <td></td>\n      <td>A</td>\n      <td>80.925373</td>\n    </tr>\n    <tr>\n      <th>D5-B</th>\n      <td>False</td>\n      <td>True</td>\n      <td></td>\n      <td></td>\n      <td></td>\n      <td>C</td>\n      <td>100.000000</td>\n    </tr>\n    <tr>\n      <th>H1-B</th>\n      <td>False</td>\n      <td>True</td>\n      <td></td>\n      <td></td>\n      <td></td>\n      <td>B</td>\n      <td>93.384615</td>\n    </tr>\n    <tr>\n      <th>H2-B</th>\n      <td>False</td>\n      <td>True</td>\n      <td></td>\n      <td></td>\n      <td></td>\n      <td>C</td>\n      <td>100.000000</td>\n    </tr>\n    <tr>\n      <th>H3-B</th>\n      <td>False</td>\n      <td>True</td>\n      <td></td>\n      <td></td>\n      <td></td>\n      <td>A</td>\n      <td>85.393443</td>\n    </tr>\n    <tr>\n      <th>H4-B</th>\n      <td>False</td>\n      <td>True</td>\n      <td></td>\n      <td></td>\n      <td></td>\n      <td>C</td>\n      <td>92.925373</td>\n    </tr>\n    <tr>\n      <th>H5-B</th>\n      <td>False</td>\n      <td>True</td>\n      <td></td>\n      <td></td>\n      <td></td>\n      <td>C</td>\n      <td>65.873016</td>\n    </tr>\n    <tr>\n      <th>A1-B</th>\n      <td>False</td>\n      <td>True</td>\n      <td></td>\n      <td></td>\n      <td></td>\n      <td>B</td>\n      <td>65.000000</td>\n    </tr>\n    <tr>\n      <th>A2-B</th>\n      <td>False</td>\n      <td>True</td>\n      <td></td>\n      <td></td>\n      <td></td>\n      <td>C</td>\n      <td>98.777778</td>\n    </tr>\n    <tr>\n      <th>A3-B</th>\n      <td>False</td>\n      <td>True</td>\n      <td></td>\n      <td></td>\n      <td></td>\n      <td>A</td>\n      <td>56.411765</td>\n    </tr>\n    <tr>\n      <th>A4-B</th>\n      <td>False</td>\n      <td>True</td>\n      <td></td>\n      <td></td>\n      <td></td>\n      <td>A</td>\n      <td>63.777778</td>\n    </tr>\n    <tr>\n      <th>A5-B</th>\n      <td>False</td>\n      <td>True</td>\n      <td></td>\n      <td></td>\n      <td></td>\n      <td>C</td>\n      <td>55.250000</td>\n    </tr>\n  </tbody>\n</table>\n</div>"
     },
     "execution_count": 18,
     "metadata": {},
     "output_type": "execute_result"
    }
   ],
   "source": [
    "pd.DataFrame.from_dict(data=json.loads(units[0]['data']), orient='index')"
   ],
   "metadata": {
    "collapsed": false,
    "ExecuteTime": {
     "end_time": "2023-07-10T16:30:29.654021Z",
     "start_time": "2023-07-10T16:30:29.519115700Z"
    }
   }
  },
  {
   "cell_type": "code",
   "execution_count": 19,
   "outputs": [],
   "source": [
    "xml = \"\"\"<operations>\n",
    "    <order>\n",
    "        <time>0601</time>\n",
    "        <base>A</base>\n",
    "        <aircraft_type>Airplane</aircraft_type>\n",
    "        <track_number>A4-B</track_number>\n",
    "        <mission_type>1</mission_type>\n",
    "        <course>T8</course>\n",
    "    </order>\n",
    "    <order>\n",
    "        <time>0602</time>\n",
    "        <base>B</base>\n",
    "        <aircraft_type>Drone</aircraft_type>\n",
    "        <track_number>D1-A</track_number>\n",
    "        <mission_type>1</mission_type>\n",
    "        <course>T8</course>\n",
    "    </order>\n",
    "</operations>\"\"\""
   ],
   "metadata": {
    "collapsed": false,
    "ExecuteTime": {
     "end_time": "2023-07-10T16:30:42.172213200Z",
     "start_time": "2023-07-10T16:30:42.135893600Z"
    }
   }
  },
  {
   "cell_type": "code",
   "execution_count": 20,
   "outputs": [],
   "source": [
    "client_socket.sendall(f\"/order/{xml}\".encode())"
   ],
   "metadata": {
    "collapsed": false,
    "ExecuteTime": {
     "end_time": "2023-07-10T16:30:43.176818500Z",
     "start_time": "2023-07-10T16:30:43.137659300Z"
    }
   }
  },
  {
   "cell_type": "code",
   "execution_count": 21,
   "outputs": [
    {
     "data": {
      "text/plain": "                     0\ncode               500\nmessage  'aircraft_id'",
      "text/html": "<div>\n<style scoped>\n    .dataframe tbody tr th:only-of-type {\n        vertical-align: middle;\n    }\n\n    .dataframe tbody tr th {\n        vertical-align: top;\n    }\n\n    .dataframe thead th {\n        text-align: right;\n    }\n</style>\n<table border=\"1\" class=\"dataframe\">\n  <thead>\n    <tr style=\"text-align: right;\">\n      <th></th>\n      <th>0</th>\n    </tr>\n  </thead>\n  <tbody>\n    <tr>\n      <th>code</th>\n      <td>500</td>\n    </tr>\n    <tr>\n      <th>message</th>\n      <td>'aircraft_id'</td>\n    </tr>\n  </tbody>\n</table>\n</div>"
     },
     "execution_count": 21,
     "metadata": {},
     "output_type": "execute_result"
    }
   ],
   "source": [
    "order_result = pd.DataFrame.from_dict(data=json.loads(recv()), orient='index')\n",
    "order_result"
   ],
   "metadata": {
    "collapsed": false,
    "ExecuteTime": {
     "end_time": "2023-07-10T16:30:45.562111500Z",
     "start_time": "2023-07-10T16:30:45.500505700Z"
    }
   }
  },
  {
   "cell_type": "code",
   "execution_count": null,
   "outputs": [],
   "source": [],
   "metadata": {
    "collapsed": false
   }
  }
 ],
 "metadata": {
  "kernelspec": {
   "display_name": "Python 3",
   "language": "python",
   "name": "python3"
  },
  "language_info": {
   "codemirror_mode": {
    "name": "ipython",
    "version": 2
   },
   "file_extension": ".py",
   "mimetype": "text/x-python",
   "name": "python",
   "nbconvert_exporter": "python",
   "pygments_lexer": "ipython2",
   "version": "2.7.6"
  }
 },
 "nbformat": 4,
 "nbformat_minor": 0
}
