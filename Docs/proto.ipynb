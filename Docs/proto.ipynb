{
 "cells": [
  {
   "cell_type": "markdown",
   "source": [
    "\"\"\"\"\"\"\"\"\"\"\"\"\"\"\"\"\"\"\"\"\"\"\"\"\"\"\"\"\"\"\"\"\"\"\"\"\"\"\"\"\"\"\"\"\"\"\"\"\"\"\"\"\"\"\"\"\"\"\"\"\"\"\"\"\"\"\"\"\"\"\"\"\"\"\"\"\"\n",
    "### Alias : proto.ipynb & Last Modded : 2023.07.09. ###\n",
    "Coded with Python 3.10 Grammar\n",
    "Description : FOS Controller Prototype\n",
    "\"\"\"\"\"\"\"\"\"\"\"\"\"\"\"\"\"\"\"\"\"\"\"\"\"\"\"\"\"\"\"\"\"\"\"\"\"\"\"\"\"\"\"\"\"\"\"\"\"\"\"\"\"\"\"\"\"\"\"\"\"\"\"\"\"\"\"\"\"\"\"\"\"\"\"\"\""
   ],
   "metadata": {
    "collapsed": false
   }
  },
  {
   "cell_type": "markdown",
   "source": [
    "#### Basic Settings"
   ],
   "metadata": {
    "collapsed": false
   }
  },
  {
   "cell_type": "code",
   "execution_count": 79,
   "outputs": [],
   "source": [
    "import asyncio\n",
    "import socket\n",
    "import json\n",
    "\n",
    "HOST = \"127.0.0.1\"\n",
    "PORT = 8080\n",
    "SIZE = 4096"
   ],
   "metadata": {
    "collapsed": false,
    "ExecuteTime": {
     "end_time": "2023-07-09T18:19:36.481662800Z",
     "start_time": "2023-07-09T18:19:36.450525500Z"
    }
   }
  },
  {
   "cell_type": "code",
   "execution_count": 80,
   "outputs": [],
   "source": [
    "def recv():\n",
    "    global client_socket\n",
    "    fragments = []\n",
    "    while True:\n",
    "        chunk = client_socket.recv(SIZE)\n",
    "        if not chunk:\n",
    "            raise Exception(\"Socket connection closed unexpectedly.\")\n",
    "        fragments.append(chunk)\n",
    "        if len(chunk) < SIZE:\n",
    "            break\n",
    "    return b''.join(fragments).decode()"
   ],
   "metadata": {
    "collapsed": false,
    "ExecuteTime": {
     "end_time": "2023-07-09T18:19:37.466065Z",
     "start_time": "2023-07-09T18:19:37.442047100Z"
    }
   }
  },
  {
   "cell_type": "markdown",
   "source": [
    "#### Server Open"
   ],
   "metadata": {
    "collapsed": false
   }
  },
  {
   "cell_type": "code",
   "execution_count": 81,
   "outputs": [],
   "source": [
    "server_socket = socket.socket(socket.AF_INET, socket.SOCK_STREAM)\n",
    "server_socket.bind((HOST, PORT))\n",
    "server_socket.listen()"
   ],
   "metadata": {
    "collapsed": false,
    "ExecuteTime": {
     "end_time": "2023-07-09T18:19:39.680432700Z",
     "start_time": "2023-07-09T18:19:39.661886400Z"
    }
   }
  },
  {
   "cell_type": "markdown",
   "source": [
    "#### Client Accept"
   ],
   "metadata": {
    "collapsed": false
   }
  },
  {
   "cell_type": "code",
   "execution_count": 82,
   "outputs": [],
   "source": [
    "client_socket, client_addr = server_socket.accept()"
   ],
   "metadata": {
    "collapsed": false,
    "ExecuteTime": {
     "end_time": "2023-07-09T18:19:48.073978900Z",
     "start_time": "2023-07-09T18:19:41.846651700Z"
    }
   }
  },
  {
   "cell_type": "code",
   "execution_count": 83,
   "outputs": [
    {
     "data": {
      "text/plain": "'!CONNECTED!'"
     },
     "execution_count": 83,
     "metadata": {},
     "output_type": "execute_result"
    }
   ],
   "source": [
    "msg = recv()\n",
    "msg"
   ],
   "metadata": {
    "collapsed": false,
    "ExecuteTime": {
     "end_time": "2023-07-09T18:19:48.104520200Z",
     "start_time": "2023-07-09T18:19:48.075365Z"
    }
   }
  },
  {
   "cell_type": "markdown",
   "source": [
    "#### Game Start"
   ],
   "metadata": {
    "collapsed": false
   }
  },
  {
   "cell_type": "code",
   "execution_count": 84,
   "outputs": [],
   "source": [
    "client_socket.sendall(\"/start\".encode())"
   ],
   "metadata": {
    "collapsed": false,
    "ExecuteTime": {
     "end_time": "2023-07-09T18:19:54.447521400Z",
     "start_time": "2023-07-09T18:19:54.419221900Z"
    }
   }
  },
  {
   "cell_type": "code",
   "execution_count": 85,
   "outputs": [
    {
     "data": {
      "text/plain": "{'code': 200, 'message': 'Round 1 is ready.', 'data': {'round': 1}}"
     },
     "execution_count": 85,
     "metadata": {},
     "output_type": "execute_result"
    }
   ],
   "source": [
    "msg = json.loads(recv())\n",
    "msg"
   ],
   "metadata": {
    "collapsed": false,
    "ExecuteTime": {
     "end_time": "2023-07-09T18:19:56.059839200Z",
     "start_time": "2023-07-09T18:19:56.028284200Z"
    }
   }
  },
  {
   "cell_type": "code",
   "execution_count": 86,
   "outputs": [],
   "source": [
    "client_socket.sendall(\"/data/aircraft_specsheet\".encode())"
   ],
   "metadata": {
    "collapsed": false,
    "ExecuteTime": {
     "end_time": "2023-07-09T18:19:57.733229200Z",
     "start_time": "2023-07-09T18:19:57.725696400Z"
    }
   }
  },
  {
   "cell_type": "code",
   "execution_count": 87,
   "outputs": [
    {
     "data": {
      "text/plain": "{'code': 200,\n 'message': 'Success',\n 'data': '{\"D1\": {\"Aircraft Type\": \"Drone\", \"Velocity\": 80, \"ETRDY\": 10, \"Cost\": 500, \"Cover Area\": 0, \"Water Tank\": 7.2, \"Possibility\": 56}, \"D2\": {\"Aircraft Type\": \"Drone\", \"Velocity\": 100, \"ETRDY\": 12, \"Cost\": 600, \"Cover Area\": 0, \"Water Tank\": 6.8, \"Possibility\": 57}, \"D3\": {\"Aircraft Type\": \"Drone\", \"Velocity\": 50, \"ETRDY\": 8, \"Cost\": 400, \"Cover Area\": 0, \"Water Tank\": 7.5, \"Possibility\": 55}, \"D4\": {\"Aircraft Type\": \"Drone\", \"Velocity\": 90, \"ETRDY\": 10, \"Cost\": 550, \"Cover Area\": 0, \"Water Tank\": 6.7, \"Possibility\": 57}, \"D5\": {\"Aircraft Type\": \"Drone\", \"Velocity\": 70, \"ETRDY\": 9, \"Cost\": 450, \"Cover Area\": 0, \"Water Tank\": 7.4, \"Possibility\": 56}, \"H1\": {\"Aircraft Type\": \"Helicopter\", \"Velocity\": 200, \"ETRDY\": 15, \"Cost\": 1000, \"Cover Area\": 1, \"Water Tank\": 6.5, \"Possibility\": 61}, \"H2\": {\"Aircraft Type\": \"Helicopter\", \"Velocity\": 190, \"ETRDY\": 14, \"Cost\": 950, \"Cover Area\": 1, \"Water Tank\": 6.8, \"Possibility\": 62}, \"H3\": {\"Aircraft Type\": \"Helicopter\", \"Velocity\": 210, \"ETRDY\": 16, \"Cost\": 1100, \"Cover Area\": 1, \"Water Tank\": 6.1, \"Possibility\": 63}, \"H4\": {\"Aircraft Type\": \"Helicopter\", \"Velocity\": 195, \"ETRDY\": 14, \"Cost\": 900, \"Cover Area\": 1, \"Water Tank\": 6.7, \"Possibility\": 60}, \"H5\": {\"Aircraft Type\": \"Helicopter\", \"Velocity\": 205, \"ETRDY\": 15, \"Cost\": 1050, \"Cover Area\": 1, \"Water Tank\": 6.3, \"Possibility\": 62}, \"A1\": {\"Aircraft Type\": \"Airplane\", \"Velocity\": 350, \"ETRDY\": 40, \"Cost\": 4000, \"Cover Area\": 2, \"Water Tank\": 4.0, \"Possibility\": 90}, \"A2\": {\"Aircraft Type\": \"Airplane\", \"Velocity\": 280, \"ETRDY\": 37, \"Cost\": 3500, \"Cover Area\": 2, \"Water Tank\": 3.6, \"Possibility\": 85}, \"A3\": {\"Aircraft Type\": \"Airplane\", \"Velocity\": 390, \"ETRDY\": 41, \"Cost\": 5200, \"Cover Area\": 2, \"Water Tank\": 3.4, \"Possibility\": 99}, \"A4\": {\"Aircraft Type\": \"Airplane\", \"Velocity\": 270, \"ETRDY\": 55, \"Cost\": 3200, \"Cover Area\": 2, \"Water Tank\": 3.6, \"Possibility\": 83}, \"A5\": {\"Aircraft Type\": \"Airplane\", \"Velocity\": 300, \"ETRDY\": 55, \"Cost\": 4500, \"Cover Area\": 2, \"Water Tank\": 3.2, \"Possibility\": 85}}'}"
     },
     "execution_count": 87,
     "metadata": {},
     "output_type": "execute_result"
    }
   ],
   "source": [
    "spec = json.loads(recv())\n",
    "spec"
   ],
   "metadata": {
    "collapsed": false,
    "ExecuteTime": {
     "end_time": "2023-07-09T18:20:02.524071400Z",
     "start_time": "2023-07-09T18:20:02.475460400Z"
    }
   }
  },
  {
   "cell_type": "code",
   "execution_count": 88,
   "outputs": [],
   "source": [
    "client_socket.sendall(\"/data/target_list\".encode())"
   ],
   "metadata": {
    "collapsed": false,
    "ExecuteTime": {
     "end_time": "2023-07-09T18:20:23.611133600Z",
     "start_time": "2023-07-09T18:20:23.561393600Z"
    }
   }
  },
  {
   "cell_type": "code",
   "execution_count": 89,
   "outputs": [
    {
     "data": {
      "text/plain": "{'code': 200,\n 'message': 'Success',\n 'data': '{\"Targets\": {\"T1\": {\"latitude\": 280, \"longitude\": 20, \"targeted\": false, \"priority\": 0, \"type\": 0, \"threat\": 0, \"probability\": 0}, \"T2\": {\"latitude\": 280, \"longitude\": 60, \"targeted\": false, \"priority\": 0, \"type\": 0, \"threat\": 0, \"probability\": 0}, \"T3\": {\"latitude\": 280, \"longitude\": 100, \"targeted\": false, \"priority\": 0, \"type\": 0, \"threat\": 0, \"probability\": 0}, \"T4\": {\"latitude\": 240, \"longitude\": 20, \"targeted\": false, \"priority\": 0, \"type\": 0, \"threat\": 0, \"probability\": 0}, \"T5\": {\"latitude\": 240, \"longitude\": 60, \"targeted\": false, \"priority\": 0, \"type\": 0, \"threat\": 0, \"probability\": 0}, \"T6\": {\"latitude\": 240, \"longitude\": 100, \"targeted\": false, \"priority\": 0, \"type\": 0, \"threat\": 0, \"probability\": 0}, \"T7\": {\"latitude\": 200, \"longitude\": 20, \"targeted\": false, \"priority\": 0, \"type\": 0, \"threat\": 0, \"probability\": 0}, \"T8\": {\"latitude\": 200, \"longitude\": 60, \"targeted\": false, \"priority\": 1, \"type\": 2, \"threat\": 100, \"probability\": 99}, \"T9\": {\"latitude\": 200, \"longitude\": 100, \"targeted\": false, \"priority\": 0, \"type\": 0, \"threat\": 0, \"probability\": 0}}, \"Lakes\": {\"L1\": {\"latitude\": 270, \"longitude\": 270}}, \"Bases\": {\"A\": {\"latitude\": 60, \"longitude\": 65}, \"B\": {\"latitude\": 30, \"longitude\": 190}, \"C\": {\"latitude\": 140, \"longitude\": 270}}}'}"
     },
     "execution_count": 89,
     "metadata": {},
     "output_type": "execute_result"
    }
   ],
   "source": [
    "targets = json.loads(recv())\n",
    "targets"
   ],
   "metadata": {
    "collapsed": false,
    "ExecuteTime": {
     "end_time": "2023-07-09T18:20:26.924186100Z",
     "start_time": "2023-07-09T18:20:26.901395400Z"
    }
   }
  },
  {
   "cell_type": "code",
   "execution_count": 90,
   "outputs": [],
   "source": [
    "client_socket.sendall(\"/data/unit_table\".encode())"
   ],
   "metadata": {
    "collapsed": false,
    "ExecuteTime": {
     "end_time": "2023-07-09T18:22:45.728135600Z",
     "start_time": "2023-07-09T18:22:45.699237600Z"
    }
   }
  },
  {
   "cell_type": "code",
   "execution_count": 91,
   "outputs": [
    {
     "data": {
      "text/plain": "{'code': 200,\n 'message': 'Success',\n 'data': '{\"D1-A\": {\"Ordered\": false, \"Available\": true, \"ETR\": \"\", \"ETD\": \"\", \"ETA\": \"\", \"Base\": \"B\", \"Current Water\": 136}, \"D2-A\": {\"Ordered\": false, \"Available\": true, \"ETR\": \"\", \"ETD\": \"\", \"ETA\": \"\", \"Base\": \"B\", \"Current Water\": 138}, \"D3-A\": {\"Ordered\": false, \"Available\": true, \"ETR\": \"\", \"ETD\": \"\", \"ETA\": \"\", \"Base\": \"A\", \"Current Water\": 157}, \"D4-A\": {\"Ordered\": false, \"Available\": true, \"ETR\": \"\", \"ETD\": \"\", \"ETA\": \"\", \"Base\": \"C\", \"Current Water\": 178}, \"D5-A\": {\"Ordered\": false, \"Available\": true, \"ETR\": \"\", \"ETD\": \"\", \"ETA\": \"\", \"Base\": \"A\", \"Current Water\": 116}, \"H1-A\": {\"Ordered\": false, \"Available\": true, \"ETR\": \"\", \"ETD\": \"\", \"ETA\": \"\", \"Base\": \"A\", \"Current Water\": 177}, \"H2-A\": {\"Ordered\": false, \"Available\": true, \"ETR\": \"\", \"ETD\": \"\", \"ETA\": \"\", \"Base\": \"C\", \"Current Water\": 124}, \"H3-A\": {\"Ordered\": false, \"Available\": true, \"ETR\": \"\", \"ETD\": \"\", \"ETA\": \"\", \"Base\": \"A\", \"Current Water\": 122}, \"H4-A\": {\"Ordered\": false, \"Available\": true, \"ETR\": \"\", \"ETD\": \"\", \"ETA\": \"\", \"Base\": \"B\", \"Current Water\": 139}, \"H5-A\": {\"Ordered\": false, \"Available\": true, \"ETR\": \"\", \"ETD\": \"\", \"ETA\": \"\", \"Base\": \"C\", \"Current Water\": 142}, \"A1-A\": {\"Ordered\": false, \"Available\": true, \"ETR\": \"\", \"ETD\": \"\", \"ETA\": \"\", \"Base\": \"A\", \"Current Water\": 179}, \"A2-A\": {\"Ordered\": false, \"Available\": true, \"ETR\": \"\", \"ETD\": \"\", \"ETA\": \"\", \"Base\": \"B\", \"Current Water\": 117}, \"A3-A\": {\"Ordered\": false, \"Available\": true, \"ETR\": \"\", \"ETD\": \"\", \"ETA\": \"\", \"Base\": \"C\", \"Current Water\": 196}, \"A4-A\": {\"Ordered\": false, \"Available\": true, \"ETR\": \"\", \"ETD\": \"\", \"ETA\": \"\", \"Base\": \"C\", \"Current Water\": 179}, \"A5-A\": {\"Ordered\": false, \"Available\": true, \"ETR\": \"\", \"ETD\": \"\", \"ETA\": \"\", \"Base\": \"B\", \"Current Water\": 187}, \"D1-B\": {\"Ordered\": false, \"Available\": true, \"ETR\": \"\", \"ETD\": \"\", \"ETA\": \"\", \"Base\": \"C\", \"Current Water\": 189}, \"D2-B\": {\"Ordered\": false, \"Available\": true, \"ETR\": \"\", \"ETD\": \"\", \"ETA\": \"\", \"Base\": \"C\", \"Current Water\": 102}, \"D3-B\": {\"Ordered\": false, \"Available\": true, \"ETR\": \"\", \"ETD\": \"\", \"ETA\": \"\", \"Base\": \"B\", \"Current Water\": 172}, \"D4-B\": {\"Ordered\": false, \"Available\": true, \"ETR\": \"\", \"ETD\": \"\", \"ETA\": \"\", \"Base\": \"A\", \"Current Water\": 163}, \"D5-B\": {\"Ordered\": false, \"Available\": true, \"ETR\": \"\", \"ETD\": \"\", \"ETA\": \"\", \"Base\": \"B\", \"Current Water\": 139}, \"H1-B\": {\"Ordered\": false, \"Available\": true, \"ETR\": \"\", \"ETD\": \"\", \"ETA\": \"\", \"Base\": \"B\", \"Current Water\": 133}, \"H2-B\": {\"Ordered\": false, \"Available\": true, \"ETR\": \"\", \"ETD\": \"\", \"ETA\": \"\", \"Base\": \"C\", \"Current Water\": 188}, \"H3-B\": {\"Ordered\": false, \"Available\": true, \"ETR\": \"\", \"ETD\": \"\", \"ETA\": \"\", \"Base\": \"B\", \"Current Water\": 163}, \"H4-B\": {\"Ordered\": false, \"Available\": true, \"ETR\": \"\", \"ETD\": \"\", \"ETA\": \"\", \"Base\": \"A\", \"Current Water\": 126}, \"H5-B\": {\"Ordered\": false, \"Available\": true, \"ETR\": \"\", \"ETD\": \"\", \"ETA\": \"\", \"Base\": \"C\", \"Current Water\": 161}, \"A1-B\": {\"Ordered\": false, \"Available\": true, \"ETR\": \"\", \"ETD\": \"\", \"ETA\": \"\", \"Base\": \"C\", \"Current Water\": 185}, \"A2-B\": {\"Ordered\": false, \"Available\": true, \"ETR\": \"\", \"ETD\": \"\", \"ETA\": \"\", \"Base\": \"B\", \"Current Water\": 128}, \"A3-B\": {\"Ordered\": false, \"Available\": true, \"ETR\": \"\", \"ETD\": \"\", \"ETA\": \"\", \"Base\": \"C\", \"Current Water\": 157}, \"A4-B\": {\"Ordered\": false, \"Available\": true, \"ETR\": \"\", \"ETD\": \"\", \"ETA\": \"\", \"Base\": \"A\", \"Current Water\": 132}, \"A5-B\": {\"Ordered\": false, \"Available\": true, \"ETR\": \"\", \"ETD\": \"\", \"ETA\": \"\", \"Base\": \"C\", \"Current Water\": 189}}'}"
     },
     "execution_count": 91,
     "metadata": {},
     "output_type": "execute_result"
    }
   ],
   "source": [
    "units = json.loads(recv())\n",
    "units"
   ],
   "metadata": {
    "collapsed": false,
    "ExecuteTime": {
     "end_time": "2023-07-09T18:22:47.911260400Z",
     "start_time": "2023-07-09T18:22:47.875571700Z"
    }
   }
  },
  {
   "cell_type": "code",
   "execution_count": 92,
   "outputs": [],
   "source": [
    "xml = \"\"\"<operations>\n",
    "    <order>\n",
    "        <time>0601</time>\n",
    "        <base>A</base>\n",
    "        <aircraft_type>Airplane</aircraft_type>\n",
    "        <track_number>A4-B</track_number>\n",
    "        <mission_type>1</mission_type>\n",
    "        <course>T8</course>\n",
    "    </order>\n",
    "    <order>\n",
    "        <time>0602</time>\n",
    "        <base>B</base>\n",
    "        <aircraft_type>Drone</aircraft_type>\n",
    "        <track_number>D1-A</track_number>\n",
    "        <mission_type>1</mission_type>\n",
    "        <course>T8</course>\n",
    "    </order>\n",
    "</operations>\"\"\""
   ],
   "metadata": {
    "collapsed": false,
    "ExecuteTime": {
     "end_time": "2023-07-09T21:22:31.194436400Z",
     "start_time": "2023-07-09T21:22:31.171383100Z"
    }
   }
  },
  {
   "cell_type": "code",
   "execution_count": 93,
   "outputs": [],
   "source": [
    "client_socket.sendall(f\"/order/{xml}\".encode())"
   ],
   "metadata": {
    "collapsed": false,
    "ExecuteTime": {
     "end_time": "2023-07-09T21:22:35.173231500Z",
     "start_time": "2023-07-09T21:22:35.141324100Z"
    }
   }
  },
  {
   "cell_type": "code",
   "execution_count": 94,
   "outputs": [
    {
     "ename": "Exception",
     "evalue": "Socket connection closed unexpectedly.",
     "output_type": "error",
     "traceback": [
      "\u001B[1;31m---------------------------------------------------------------------------\u001B[0m",
      "\u001B[1;31mException\u001B[0m                                 Traceback (most recent call last)",
      "Cell \u001B[1;32mIn[94], line 1\u001B[0m\n\u001B[1;32m----> 1\u001B[0m order_result \u001B[38;5;241m=\u001B[39m json\u001B[38;5;241m.\u001B[39mloads(\u001B[43mrecv\u001B[49m\u001B[43m(\u001B[49m\u001B[43m)\u001B[49m\u001B[38;5;241m.\u001B[39mdecode())\n\u001B[0;32m      2\u001B[0m order_result\n",
      "Cell \u001B[1;32mIn[80], line 7\u001B[0m, in \u001B[0;36mrecv\u001B[1;34m()\u001B[0m\n\u001B[0;32m      5\u001B[0m chunk \u001B[38;5;241m=\u001B[39m client_socket\u001B[38;5;241m.\u001B[39mrecv(SIZE)\n\u001B[0;32m      6\u001B[0m \u001B[38;5;28;01mif\u001B[39;00m \u001B[38;5;129;01mnot\u001B[39;00m chunk:\n\u001B[1;32m----> 7\u001B[0m     \u001B[38;5;28;01mraise\u001B[39;00m \u001B[38;5;167;01mException\u001B[39;00m(\u001B[38;5;124m\"\u001B[39m\u001B[38;5;124mSocket connection closed unexpectedly.\u001B[39m\u001B[38;5;124m\"\u001B[39m)\n\u001B[0;32m      8\u001B[0m fragments\u001B[38;5;241m.\u001B[39mappend(chunk)\n\u001B[0;32m      9\u001B[0m \u001B[38;5;28;01mif\u001B[39;00m \u001B[38;5;28mlen\u001B[39m(chunk) \u001B[38;5;241m<\u001B[39m SIZE:\n",
      "\u001B[1;31mException\u001B[0m: Socket connection closed unexpectedly."
     ]
    }
   ],
   "source": [
    "order_result = json.loads(recv().decode())\n",
    "order_result"
   ],
   "metadata": {
    "collapsed": false,
    "ExecuteTime": {
     "end_time": "2023-07-09T21:35:21.869561300Z",
     "start_time": "2023-07-09T21:22:37.462520500Z"
    }
   }
  },
  {
   "cell_type": "code",
   "execution_count": null,
   "outputs": [],
   "source": [],
   "metadata": {
    "collapsed": false
   }
  }
 ],
 "metadata": {
  "kernelspec": {
   "display_name": "Python 3",
   "language": "python",
   "name": "python3"
  },
  "language_info": {
   "codemirror_mode": {
    "name": "ipython",
    "version": 2
   },
   "file_extension": ".py",
   "mimetype": "text/x-python",
   "name": "python",
   "nbconvert_exporter": "python",
   "pygments_lexer": "ipython2",
   "version": "2.7.6"
  }
 },
 "nbformat": 4,
 "nbformat_minor": 0
}
